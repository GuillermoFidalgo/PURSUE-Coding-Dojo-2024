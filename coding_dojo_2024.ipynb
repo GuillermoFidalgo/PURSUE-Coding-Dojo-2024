{
 "cells": [
  {
   "cell_type": "markdown",
   "id": "bbb4258a",
   "metadata": {},
   "source": [
    "# Coding Dojo Working Notebook: Plotting Jet Kinematic Variables\n",
    "\n",
    "## Jet Basics\n",
    "<!-- Quick explanation of what jets are and any other relevant information about them -->"
   ]
  },
  {
   "cell_type": "markdown",
   "id": "57c99a3a",
   "metadata": {},
   "source": [
    "## Setup\n",
    "\n",
    "If you do not already have the data, go back to your terminal and do so. (Hint: Look up what `wget` does and how it works.)"
   ]
  },
  {
   "cell_type": "markdown",
   "id": "fdc2d53b",
   "metadata": {},
   "source": [
    "## Instructions\n",
    "For AK4 jets, plot histograms for each of the kinematic variables using the tools specified in the following table.\n",
    "\n",
    "<table>\n",
    "  <tr>\n",
    "    <th>AK4 Jet Kinematic Variable</th>\n",
    "    <th>Tools to Plot With</th>\n",
    "  </tr>\n",
    "  <tr>\n",
    "    <td>Jet eta</td>\n",
    "    <td>PyROOT</td>\n",
    "  </tr>\n",
    "  <tr>\n",
    "    <td>Jet pt</td>\n",
    "    <td>RDataFrame</td>\n",
    "  </tr>\n",
    "  <tr>\n",
    "    <td>Jet phi</td>\n",
    "    <td>Uproot, Hist</td>\n",
    "  </tr>\n",
    "  <tr>\n",
    "    <td>Jet mass</td>\n",
    "    <td>Matplotlib</td>\n",
    "  </tr>\n",
    "</table>\n",
    "\n",
    "If you finish before time is up, there is an extra exercise"
   ]
  },
  {
   "cell_type": "markdown",
   "id": "0011e267",
   "metadata": {},
   "source": [
    "## Hints:\n",
    "1. Check the content of data.root (e.g. What is the name of the TTree?)\n",
    "    - The file contains multipe TTrees\n",
    "    - Only the **first** one is relavent to this exercise\n",
    "2. Check the content of TTree (e.g. What branches does TTree have? What is the branch name of the quantity that we want to plot?)\n",
    "3. Fill a histogram using the branch and draw"
   ]
  },
  {
   "cell_type": "code",
   "execution_count": 2,
   "id": "6f33ad9f",
   "metadata": {},
   "outputs": [
    {
     "name": "stdout",
     "output_type": "stream",
     "text": [
      "\u001b[32mEvents\u001b[0m  \u001b[32mLuminosityBlocks\u001b[0m  \u001b[32mMetaData\u001b[0m  \u001b[32mParameterSets\u001b[0m  \u001b[32mRuns\u001b[0m  tag\r\n"
     ]
    }
   ],
   "source": [
    "# check the content of data.root\n",
    "!rootls data.root"
   ]
  },
  {
   "cell_type": "markdown",
   "id": "469f9fb1",
   "metadata": {},
   "source": [
    "## `PyROOT` for AK4 Jet $\\eta$"
   ]
  },
  {
   "cell_type": "code",
   "execution_count": 1,
   "id": "eb27a1fe",
   "metadata": {},
   "outputs": [
    {
     "name": "stdout",
     "output_type": "stream",
     "text": [
      "Welcome to JupyROOT 6.26/11\n"
     ]
    }
   ],
   "source": [
    "import ROOT"
   ]
  },
  {
   "cell_type": "markdown",
   "id": "1f7bd48c",
   "metadata": {},
   "source": [
    "## `RDataFrame` for AK4 Jet $\\phi$\n",
    "\n",
    "**To-do**: Plot the distribution of jet $\\phi$\n",
    "\n",
    "**Requirement**: the histogram should range from -2 to 2 and have 10 bins\n",
    "\n",
    "**Documentation** of relavent functions: https://root.cern/doc/master/classROOT_1_1RDataFrame.html"
   ]
  },
  {
   "cell_type": "markdown",
   "id": "dc3af14a",
   "metadata": {},
   "source": [
    "Import relavent package (hint: ROOT)"
   ]
  },
  {
   "cell_type": "code",
   "execution_count": null,
   "id": "688db16f",
   "metadata": {},
   "outputs": [],
   "source": [
    "import ROOT"
   ]
  },
  {
   "cell_type": "markdown",
   "id": "1df3199c",
   "metadata": {},
   "source": [
    "Load TTree into a RDataFrame (aka create a RDataFrame with the content in TTree)"
   ]
  },
  {
   "cell_type": "code",
   "execution_count": null,
   "id": "b8970a62",
   "metadata": {},
   "outputs": [],
   "source": [
    "df = ROOT.RDataFrame(\"Events\",\"data.root\")"
   ]
  },
  {
   "cell_type": "markdown",
   "id": "d33c9d48",
   "metadata": {},
   "source": [
    "Check the column names"
   ]
  },
  {
   "cell_type": "code",
   "execution_count": null,
   "id": "b6387126",
   "metadata": {},
   "outputs": [],
   "source": [
    "print(df.GetColumnNames())"
   ]
  },
  {
   "cell_type": "markdown",
   "id": "b1b3e8d8",
   "metadata": {},
   "source": [
    "Fill a histogram with the desired branch\n",
    "Requirement: the histogram should range from -2 to 2 and have 10 bins"
   ]
  },
  {
   "cell_type": "code",
   "execution_count": 9,
   "id": "f4114cb7",
   "metadata": {},
   "outputs": [],
   "source": [
    "h_phi = df.Histo1D((\"Jet #phi\", \"Jet #phi\", 10, -2, 2), \"Jet_phi\")"
   ]
  },
  {
   "cell_type": "markdown",
   "id": "d956bf64",
   "metadata": {},
   "source": [
    "Plot histogram"
   ]
  },
  {
   "cell_type": "code",
   "execution_count": 10,
   "id": "41165a3a",
   "metadata": {},
   "outputs": [
    {
     "data": {
      "image/png": "[encoded data removed]",
      "text/plain": [
       "<IPython.core.display.Image object>"
      ]
     },
     "metadata": {},
     "output_type": "display_data"
    }
   ],
   "source": [
    "c = ROOT.TCanvas()\n",
    "h_phi.Draw()\n",
    "c.Draw()"
   ]
  },
  {
   "cell_type": "markdown",
   "id": "bf05c27c",
   "metadata": {},
   "source": [
    "## `Hist` for AK4 Jet $p_T$"
   ]
  },
  {
   "cell_type": "code",
   "execution_count": null,
   "id": "3c027273",
   "metadata": {},
   "outputs": [],
   "source": [
    "import uproot, hist, awkward"
   ]
  },
  {
   "cell_type": "markdown",
   "id": "ff42daa5",
   "metadata": {},
   "source": [
    "## `Matplotlib` for AK4 Jet mass"
   ]
  },
  {
   "cell_type": "code",
   "execution_count": 1,
   "id": "1aae3f61",
   "metadata": {},
   "outputs": [],
   "source": [
    "import matplotlib.pyplot as plt\n",
    "import numpy as np"
   ]
  }
 ],
 "metadata": {
  "kernelspec": {
   "display_name": "Python 3 (ipykernel)",
   "language": "python",
   "name": "python3"
  },
  "language_info": {
   "codemirror_mode": {
    "name": "ipython",
    "version": 3
   },
   "file_extension": ".py",
   "mimetype": "text/x-python",
   "name": "python",
   "nbconvert_exporter": "python",
   "pygments_lexer": "ipython3",
   "version": "3.9.14"
  }
 },
 "nbformat": 4,
 "nbformat_minor": 5
}
