{
 "cells": [
  {
   "cell_type": "markdown",
   "id": "bbb4258a",
   "metadata": {},
   "source": [
    "# Coding Dojo Working Notebook: Plotting Jet Kinematic Variables\n",
    "\n",
    "## Jet Basics\n",
    "<!-- Quick explanation of what jets are and any other relevant information about them -->"
   ]
  },
  {
   "cell_type": "markdown",
   "id": "57c99a3a",
   "metadata": {},
   "source": [
    "## Setup\n",
    "\n",
    "If you do not already have the data, go back to your terminal and do so. (Hint: Look up what `wget` does and how it works.)"
   ]
  },
  {
   "cell_type": "markdown",
   "id": "fdc2d53b",
   "metadata": {},
   "source": [
    "## Instructions\n",
    "For AK4 jets, plot histograms for each of the kinematic variables using the tools specified in the following table.\n",
    "\n",
    "<table>\n",
    "  <tr>\n",
    "    <th>AK4 Jet Kinematic Variable</th>\n",
    "    <th>Tools to Plot With</th>\n",
    "  </tr>\n",
    "  <tr>\n",
    "    <td>Jet eta</td>\n",
    "    <td>PyROOT</td>\n",
    "  </tr>\n",
    "  <tr>\n",
    "    <td>Jet phi</td>\n",
    "    <td>RDataFrame</td>\n",
    "  </tr>\n",
    "  <tr>\n",
    "    <td>Jet pt</td>\n",
    "    <td>Uproot, Hist</td>\n",
    "  </tr>\n",
    "  <tr>\n",
    "    <td>Jet mass</td>\n",
    "    <td>Matplotlib</td>\n",
    "  </tr>\n",
    "</table>\n",
    "\n",
    "If you finish before time is up, there is an extra exercise"
   ]
  },
  {
   "cell_type": "markdown",
   "id": "0011e267",
   "metadata": {},
   "source": [
    "## Hints:\n",
    "1. Check the content of data.root (e.g. What is the name of the TTree?)\n",
    "    - The file contains multipe TTrees\n",
    "    - Only the **first** one is relavent to this exercise\n",
    "2. Check the content of TTree (e.g. What branches does TTree have? What is the branch name of the quantity that we want to plot?)\n",
    "3. Fill a histogram using the branch and draw"
   ]
  },
  {
   "cell_type": "code",
   "execution_count": null,
   "id": "6f33ad9f",
   "metadata": {},
   "outputs": [],
   "source": [
    "# check the content of data.root\n",
    "!rootls data.root"
   ]
  },
  {
   "cell_type": "markdown",
   "id": "469f9fb1",
   "metadata": {},
   "source": [
    "## `PyROOT` for AK4 Jet $\\eta$\n",
    "\n",
    "**To-do**: Plot a histogram for jet  using PyROOT\n",
    "\n",
    "**Link to PyROOT tutorials**: https://github.com/Ari-mu-l/software-carpentry"
   ]
  },
  {
   "cell_type": "markdown",
   "id": "c20f7b42",
   "metadata": {},
   "source": [
    "Import relavent package(s)"
   ]
  },
  {
   "cell_type": "code",
   "execution_count": null,
   "id": "eb27a1fe",
   "metadata": {},
   "outputs": [],
   "source": [
    "import ROOT"
   ]
  },
  {
   "cell_type": "markdown",
   "id": "9c4d4275-6f11-4129-bd20-0e985e4171f6",
   "metadata": {},
   "source": [
    "Read the ROOT File"
   ]
  },
  {
   "cell_type": "code",
   "execution_count": null,
   "id": "eb15359a-1a83-4d89-9888-4b27194d4da9",
   "metadata": {},
   "outputs": [],
   "source": [
    "file = ROOT.TFile.Open(\"data.root\")"
   ]
  },
  {
   "cell_type": "markdown",
   "id": "4b7f374a-3905-4537-bccf-4a66ee1eb343",
   "metadata": {},
   "source": [
    "Load the Tree from the ROOT file (Use the name of the first TTree from the step \"check the content of data.root\")"
   ]
  },
  {
   "cell_type": "code",
   "execution_count": null,
   "id": "f8b4bc3b-2158-4f62-a456-cc32e0fb8b4e",
   "metadata": {},
   "outputs": [],
   "source": [
    "tree = file.Get(\"Events\")"
   ]
  },
  {
   "cell_type": "markdown",
   "id": "93d24791",
   "metadata": {},
   "source": [
    "Check the branch names of the ttree and select the desired branch (jet eta)\n",
    "\n",
    "- Hint1: Use the Print() function\n",
    "\n",
    "- Hint2: We often act on an object with the format of <object>.<some function> like hist.Draw()\n",
    "\n",
    "- Hint3: If you cannot figure it out, try to google for answers!"
   ]
  },
  {
   "cell_type": "code",
   "execution_count": null,
   "id": "7f25ef62",
   "metadata": {},
   "outputs": [],
   "source": [
    "tree.Print()"
   ]
  },
  {
   "cell_type": "markdown",
   "id": "5a3b6bff-ffb6-4a14-b92c-e0e9a5482085",
   "metadata": {},
   "source": [
    "Create a canvas to plot the histogram"
   ]
  },
  {
   "cell_type": "code",
   "execution_count": null,
   "id": "972983a0-05d7-479c-a06e-c6768d3bc603",
   "metadata": {},
   "outputs": [],
   "source": [
    "canvas = ROOT.TCanvas(\"canvas\", \"Jet_eta\", 800, 600)"
   ]
  },
  {
   "cell_type": "markdown",
   "id": "630e0dc8-3a2c-4523-9247-9207e085e328",
   "metadata": {},
   "source": [
    "Create an empty Histogram to plot the AK4 Jet $\\eta$ \n",
    "\n",
    "- Requirement: Range from -6 to 6. Split into 100 bins."
   ]
  },
  {
   "cell_type": "code",
   "execution_count": null,
   "id": "4733bb02-f195-4b62-af0f-10779cb4292b",
   "metadata": {},
   "outputs": [],
   "source": [
    "hist = ROOT.TH1F(\"Jet #eta\", \"Jet #eta\", 100, -6, 6)"
   ]
  },
  {
   "cell_type": "markdown",
   "id": "9642ab32",
   "metadata": {},
   "source": [
    "Fill the histogram with the branch in TTree\n",
    "\n",
    "- The code has been written for you.\n",
    "\n",
    "- Read the code and explain what each line is doing with the help of the documentation: https://root.cern.ch/doc/master/classTTree.html . If it doesn't contain everything you need, use google."
   ]
  },
  {
   "cell_type": "markdown",
   "id": "86a6f28a",
   "metadata": {},
   "source": [
    "Write it down in this cell (double click to edit) or leave comments in the code:"
   ]
  },
  {
   "cell_type": "code",
   "execution_count": null,
   "id": "91957496",
   "metadata": {},
   "outputs": [],
   "source": [
    "nEntries = tree.GetEntries()\n",
    "\n",
    "for i in range(nEntries):\n",
    "    if(tree.GetEntry(i)>0):\n",
    "        for j in range(len(tree.Jet_eta)): # Loop through all the jets in each event\n",
    "             hist.Fill(tree.Jet_eta[j])"
   ]
  },
  {
   "cell_type": "markdown",
   "id": "d8b21696-9a78-47ce-a1bd-1e018ed06a98",
   "metadata": {},
   "source": [
    "Draw the Histogram and the Canvas"
   ]
  },
  {
   "cell_type": "code",
   "execution_count": null,
   "id": "4213754d",
   "metadata": {},
   "outputs": [],
   "source": [
    "hist.Draw()\n",
    "canvas.Draw()"
   ]
  },
  {
   "cell_type": "markdown",
   "id": "19bfe439",
   "metadata": {},
   "source": [
    "You will find that looping through every event to fill the histogram is slow.\n",
    "\n",
    "Here is a cool shortcut that replaces everything above:"
   ]
  },
  {
   "cell_type": "code",
   "execution_count": null,
   "id": "622da844-73a8-4c02-819a-0ff568c87884",
   "metadata": {},
   "outputs": [],
   "source": [
    "tree.Draw(\"Jet_eta >> Jet #eta\")\n",
    "canvas.Draw()"
   ]
  },
  {
   "cell_type": "markdown",
   "id": "1f7bd48c",
   "metadata": {},
   "source": [
    "## `RDataFrame` for AK4 Jet $\\phi$\n",
    "\n",
    "**To-do**: Plot the distribution of jet $\\phi$\n",
    "\n",
    "**Requirement**: the histogram should range from -2 to 2 and have 10 bins\n",
    "\n",
    "**Documentation** of relavent functions: https://root.cern/doc/master/classROOT_1_1RDataFrame.html"
   ]
  },
  {
   "cell_type": "markdown",
   "id": "dc3af14a",
   "metadata": {},
   "source": [
    "Import relavent package (hint: ROOT)"
   ]
  },
  {
   "cell_type": "code",
   "execution_count": null,
   "id": "688db16f",
   "metadata": {},
   "outputs": [],
   "source": [
    "import ROOT"
   ]
  },
  {
   "cell_type": "markdown",
   "id": "1df3199c",
   "metadata": {},
   "source": [
    "Load TTree into a RDataFrame (aka create a RDataFrame with the content in TTree)"
   ]
  },
  {
   "cell_type": "code",
   "execution_count": null,
   "id": "b8970a62",
   "metadata": {},
   "outputs": [],
   "source": [
    "df = ROOT.RDataFrame(\"Events\",\"data.root\")"
   ]
  },
  {
   "cell_type": "markdown",
   "id": "d33c9d48",
   "metadata": {},
   "source": [
    "Check the column names"
   ]
  },
  {
   "cell_type": "code",
   "execution_count": null,
   "id": "b6387126",
   "metadata": {},
   "outputs": [],
   "source": [
    "print(df.GetColumnNames())"
   ]
  },
  {
   "cell_type": "markdown",
   "id": "b1b3e8d8",
   "metadata": {},
   "source": [
    "Fill a histogram with the desired branch\n",
    "Requirement: the histogram should range from -2 to 2 and have 10 bins"
   ]
  },
  {
   "cell_type": "code",
   "execution_count": null,
   "id": "f4114cb7",
   "metadata": {},
   "outputs": [],
   "source": [
    "h_phi = df.Histo1D((\"Jet #phi\", \"Jet #phi\", 10, -2, 2), \"Jet_phi\")"
   ]
  },
  {
   "cell_type": "markdown",
   "id": "d956bf64",
   "metadata": {},
   "source": [
    "Plot histogram"
   ]
  },
  {
   "cell_type": "code",
   "execution_count": null,
   "id": "41165a3a",
   "metadata": {},
   "outputs": [],
   "source": [
    "c = ROOT.TCanvas()\n",
    "h_phi.Draw()\n",
    "c.Draw()"
   ]
  },
  {
   "cell_type": "markdown",
   "id": "bf05c27c",
   "metadata": {},
   "source": [
    "## `Hist` for Jet $p_T$"
   ]
  },
  {
   "cell_type": "code",
   "execution_count": 4,
   "id": "3c027273",
   "metadata": {},
   "outputs": [],
   "source": [
    "import uproot, hist\n",
    "import awkward as ak"
   ]
  },
  {
   "cell_type": "markdown",
   "id": "296a76f1",
   "metadata": {},
   "source": [
    "Load the data.root file with uproot"
   ]
  },
  {
   "cell_type": "code",
   "execution_count": 5,
   "id": "0f854eec",
   "metadata": {},
   "outputs": [],
   "source": [
    "data = uproot.open(\"data.root\")"
   ]
  },
  {
   "cell_type": "markdown",
   "id": "bc8a9547",
   "metadata": {},
   "source": [
    "Find Jet_pt info in \"Events\" TTree. Save them in an array with ak library"
   ]
  },
  {
   "cell_type": "code",
   "execution_count": 16,
   "id": "afa69488",
   "metadata": {},
   "outputs": [],
   "source": [
    "jet_pt = data['Events']['Jet_pt'].array(library=\"ak\")"
   ]
  },
  {
   "cell_type": "markdown",
   "id": "a3fec7ba",
   "metadata": {},
   "source": [
    "Flatten the array"
   ]
  },
  {
   "cell_type": "code",
   "execution_count": 17,
   "id": "2bb2c9b7",
   "metadata": {},
   "outputs": [],
   "source": [
    "flat_jet_pt = ak.flatten(jet_pt)"
   ]
  },
  {
   "cell_type": "markdown",
   "id": "04353ac8",
   "metadata": {},
   "source": [
    "Import Hist. Define a histogram, fiil it and plot it"
   ]
  },
  {
   "cell_type": "code",
   "execution_count": 27,
   "id": "d2f1f010",
   "metadata": {},
   "outputs": [
    {
     "data": {
      "text/plain": [
       "[StairsArtists(stairs=<matplotlib.patches.StepPatch object at 0x7ff860ec27f0>, errorbar=<ErrorbarContainer object of 3 artists>, legend_artist=<ErrorbarContainer object of 3 artists>)]"
      ]
     },
     "execution_count": 27,
     "metadata": {},
     "output_type": "execute_result"
    },
    {
     "data": {
      "image/png": "[encoded data removed]",
      "text/plain": [
       "<Figure size 640x480 with 1 Axes>"
      ]
     },
     "metadata": {},
     "output_type": "display_data"
    }
   ],
   "source": [
    "from hist import Hist\n",
    "\n",
    "hist = Hist.new.Reg(1000, 0, 500, name=\"Jet_pt\", label=\"Jet $p_T$ (GeV)\").Double()\n",
    "hist.fill(flat_jet_pt)\n",
    "hist.plot()"
   ]
  },
  {
   "cell_type": "markdown",
   "id": "ff42daa5",
   "metadata": {},
   "source": [
    "## `Matplotlib` for AK4 Jet mass"
   ]
  },
  {
   "cell_type": "markdown",
   "id": "0cfb8ef9",
   "metadata": {},
   "source": [
    "This is probably the longest method of making plots with our data. So we've provided detailed instructions and starter code. \n",
    "\n",
    "Reuse the code from the Hist section i.e. :\n",
    "\n",
    "1. Open the file with uproot\n",
    "2. Get the `Jet_mass` branch and get the awkard array.\n",
    "3. Make the histogram by flattening and using `<myhist>.fill()`. *However this time do not use `<myhist>.plot()`*.\n",
    "\n",
    "`Hist` calls `matplotlib.pyplot` internally and allows you to make quick plots. Now that you were able to plot the histogram with hist objects in the past section, it is your turn to make it look pretty.\n",
    "\n",
    "**To Do**\n",
    "\n",
    "Instead of using the `hist.Hist.plot1d()` to plot the histogram we are going to use the `<myhist>.to_numpy()` to get the bin edges and bin contents like `np.histogram()` would normally return.\n",
    "\n",
    "**Requirements**:\n",
    "\n",
    "1. Make the histogram filled with red color\n",
    "1. Add a legend\n",
    "1. Set the y-scale to \"log\"\n",
    "1. Add a title at the top of the plot that says \"Jet Mass Distribution\"\n",
    "1. Add a label on the x axis that says \"Jet Mass [GeV]\"\n",
    "1. Set the words \"Count\" as the y axis label\n",
    "\n",
    "**HINT**\n",
    "\n",
    "Use google for adding stuff in matplotlib. Take this code as a starting point.\n",
    "```python\n",
    "# In order to use bin edges from a pre-binned histogram you need to do the following\n",
    "fig, ax = plt.subplots()\n",
    "values , edges = <myhist>.to_numpy()\n",
    "ax.hist(x = edges[:-1], bins = edges, weights = values)\n",
    "# where values and edges come from the output of <myhist>.to_numpy()\n",
    "\n",
    "plt.show()\n",
    "```\n",
    "\n",
    "**Optional**\n",
    "\n",
    "If you haven't heard about it try installing `mplhep` with `pip install mplhep` and use the following\n",
    "\n",
    "```python\n",
    "import mplhep as hep\n",
    "hep.style.use(\"CMS\")\n",
    "```\n",
    "\n",
    "This will now make your plots look nicer and closer to publication style!\n",
    "\n",
    "For extra points try to add the *CMS Experiment* label at the top with `mplhep`. (Google is your friend!!)"
   ]
  },
  {
   "cell_type": "code",
   "execution_count": 21,
   "id": "525ff852",
   "metadata": {},
   "outputs": [],
   "source": [
    "import matplotlib.pyplot as plt\n",
    "import numpy as np\n",
    "import uproot\n",
    "import hist\n",
    "import awkward as ak\n"
   ]
  },
  {
   "cell_type": "code",
   "execution_count": 22,
   "id": "1ae5736a",
   "metadata": {},
   "outputs": [],
   "source": [
    "import mplhep as hep\n",
    "hep.style.use(\"CMS\")"
   ]
  },
  {
   "cell_type": "code",
   "execution_count": 23,
   "id": "41b4ab91",
   "metadata": {},
   "outputs": [
    {
     "data": {
      "text/plain": [
       "['tag;1',\n",
       " 'Events;1',\n",
       " 'LuminosityBlocks;1',\n",
       " 'Runs;1',\n",
       " 'MetaData;1',\n",
       " 'ParameterSets;1']"
      ]
     },
     "execution_count": 23,
     "metadata": {},
     "output_type": "execute_result"
    }
   ],
   "source": [
    "file = uproot.open(\"data.root\")\n",
    "file.keys()"
   ]
  },
  {
   "cell_type": "code",
   "execution_count": 24,
   "id": "dc5c4fef",
   "metadata": {},
   "outputs": [],
   "source": [
    "events = file['Events']\n",
    "jet_mass = events['Jet_mass'].array()"
   ]
  },
  {
   "cell_type": "code",
   "execution_count": 25,
   "id": "10b1e390",
   "metadata": {},
   "outputs": [
    {
     "data": {
      "text/html": [
       "<html>\n",
       "<div style=\"display:flex; align-items:center;\">\n",
       "<div style=\"width:290px;\">\n",
       "<svg xmlns=\"http://www.w3.org/2000/svg\" viewBox=\"-10 -105 270 120\">\n",
       "<line x1=\"-5\" y1=\"0\" x2=\"255\" y2=\"0\" style=\"fill:none;stroke-width:2;stroke:currentColor\"/>\n",
       "<text text-anchor=\"middle\" x=\"0\" y=\"15\" style=\"fill:currentColor;\">\n",
       "0\n",
       "</text>\n",
       "<text text-anchor=\"middle\" x=\"250\" y=\"15\" style=\"fill:currentColor;\">\n",
       "160\n",
       "</text>\n",
       "<text text-anchor=\"middle\" x=\"125.0\" y=\"15\" style=\"fill:currentColor;\">\n",
       "Jet mass\n",
       "</text>\n",
       "<polyline points=\"  0,0   0,-0.251 2.08333,-0.251 2.08333,-7.55 4.16667,-7.55 4.16667,-79.5 6.25,-79.5 6.25,-100 8.33333,-100 8.33333,-53.4 10.4167,-53.4 10.4167,-37 12.5,-37 12.5,-29.2 14.5833,-29.2 14.5833,-23.8 16.6667,-23.8 16.6667,-19.8 18.75,-19.8 18.75,-16.8 20.8333,-16.8 20.8333,-14.3 22.9167,-14.3 22.9167,-12.4  25,-12.4  25,-10.7 27.0833,-10.7 27.0833,-9.74 29.1667,-9.74 29.1667,-8.73 31.25,-8.73 31.25,-7.91 33.3333,-7.91 33.3333,-7.27 35.4167,-7.27 35.4167,-6.8 37.5,-6.8 37.5,-6.36 39.5833,-6.36 39.5833,-6.01 41.6667,-6.01 41.6667,-5.54 43.75,-5.54 43.75,-5.26 45.8333,-5.26 45.8333,-4.87 47.9167,-4.87 47.9167,-4.49  50,-4.49  50,-4.11 52.0833,-4.11 52.0833,-3.8 54.1667,-3.8 54.1667,-3.47 56.25,-3.47 56.25,-3.25 58.3333,-3.25 58.3333,-2.98 60.4167,-2.98 60.4167,-2.65 62.5,-2.65 62.5,-2.5 64.5833,-2.5 64.5833,-2.24 66.6667,-2.24 66.6667,-2.03 68.75,-2.03 68.75,-1.9 70.8333,-1.9 70.8333,-1.72 72.9167,-1.72 72.9167,-1.47  75,-1.47  75,-1.45 77.0833,-1.45 77.0833,-1.23 79.1667,-1.23 79.1667,-1.13 81.25,-1.13 81.25,-0.989 83.3333,-0.989 83.3333,-0.943 85.4167,-0.943 85.4167,-0.845 87.5,-0.845 87.5,-0.741 89.5833,-0.741 89.5833,-0.717 91.6667,-0.717 91.6667,-0.63 93.75,-0.63 93.75,-0.603 95.8333,-0.603 95.8333,-0.518 97.9167,-0.518 97.9167,-0.434 100,-0.434 100,-0.43 102.083,-0.43 102.083,-0.375 104.167,-0.375 104.167,-0.352 106.25,-0.352 106.25,-0.288 108.333,-0.288 108.333,-0.245 110.417,-0.245 110.417,-0.238 112.5,-0.238 112.5,-0.234 114.583,-0.234 114.583,-0.178 116.667,-0.178 116.667,-0.179 118.75,-0.179 118.75,-0.155 120.833,-0.155 120.833,-0.146 122.917,-0.146 122.917,-0.115 125,-0.115 125,-0.122 127.083,-0.122 127.083,-0.111 129.167,-0.111 129.167,-0.106 131.25,-0.106 131.25,-0.0756 133.333,-0.0756 133.333,-0.0742 135.417,-0.0742 135.417,-0.07 137.5,-0.07 137.5,-0.0623 139.583,-0.0623 139.583,-0.0525 141.667,-0.0525 141.667,-0.0455 143.75,-0.0455 143.75,-0.0399 145.833,-0.0399 145.833,-0.0399 147.917,-0.0399 147.917,-0.0476 150,-0.0476 150,-0.0336 152.083,-0.0336 152.083,-0.0287 154.167,-0.0287 154.167,-0.0273 156.25,-0.0273 156.25,-0.0238 158.333,-0.0238 158.333,-0.0245 160.417,-0.0245 160.417,-0.014 162.5,-0.014 162.5,-0.021 164.583,-0.021 164.583,-0.0105 166.667,-0.0105 166.667,-0.0224 168.75,-0.0224 168.75,-0.021 170.833,-0.021 170.833,-0.0161 172.917,-0.0161 172.917,-0.0112 175,-0.0112 175,-0.0112 177.083,-0.0112 177.083,-0.0119 179.167,-0.0119 179.167,-0.0119 181.25,-0.0119 181.25,-0.0084 183.333,-0.0084 183.333,-0.0056 185.417,-0.0056 185.417,-0.007 187.5,-0.007 187.5,-0.0084 189.583,-0.0084 189.583,-0.0063 191.667,-0.0063 191.667,-0.0084 193.75,-0.0084 193.75,-0.007 195.833,-0.007 195.833,-0.0077 197.917,-0.0077 197.917,-0.0056 200,-0.0056 200,-0.0028 202.083,-0.0028 202.083,-0.0049 204.167,-0.0049 204.167,-0.0042 206.25,-0.0042 206.25,-0.0049 208.333,-0.0049 208.333,-0.0035 210.417,-0.0035 210.417,-0.0028 212.5,-0.0028 212.5,-0.0021 214.583,-0.0021 214.583,-0.0014 216.667,-0.0014 216.667,-0.0028 218.75,-0.0028 218.75,-0.0028 220.833,-0.0028 220.833,-0.0007 222.917,-0.0007 222.917,-0.0007 225,-0.0007 225,-0 227.083,-0 227.083,-0.0021 229.167,-0.0021 229.167,-0.0021 231.25,-0.0021 231.25,-0 233.333,-0 233.333,-0.0014 235.417,-0.0014 235.417,-0.0014 237.5,-0.0014 237.5,-0 239.583,-0 239.583,-0.0007 241.667,-0.0007 241.667,-0.0014 243.75,-0.0014 243.75,-0.0007 245.833,-0.0007 245.833,-0.0028 247.917,-0.0028 247.917,-0.0007 250,-0.0007 250,0\" style=\"fill:none; stroke:currentColor;\"/>\n",
       "</svg>\n",
       "</div>\n",
       "<div style=\"flex=grow:1;\">\n",
       "Regular(120, 0, 160, name='mass', label='Jet mass')<br/>\n",
       "<hr style=\"margin-top:.2em; margin-bottom:.2em;\"/>\n",
       "Double() Σ=749279.0 <em>(749311.0 with flow)</em>\n",
       "\n",
       "</div>\n",
       "</div>\n",
       "</html>"
      ],
      "text/plain": [
       "Hist(Regular(120, 0, 160, name='mass', label='Jet mass'), storage=Double()) # Sum: 749279.0 (749311.0 with flow)"
      ]
     },
     "execution_count": 25,
     "metadata": {},
     "output_type": "execute_result"
    }
   ],
   "source": [
    "masshist = hist.Hist(\n",
    "    hist.axis.Regular(120,0,160,label='Jet mass', name = 'mass')\n",
    ")\n",
    "masshist.fill(ak.ravel(jet_mass))"
   ]
  },
  {
   "cell_type": "code",
   "execution_count": 73,
   "id": "2dac2f59",
   "metadata": {},
   "outputs": [
    {
     "data": {
      "image/png": "[encoded data removed]",
      "text/plain": [
       "<Figure size 1000x1000 with 1 Axes>"
      ]
     },
     "metadata": {},
     "output_type": "display_data"
    }
   ],
   "source": [
    "fig, ax = plt.subplots()\n",
    "values , edges = masshist.to_numpy()\n",
    "# In order to use bin edges from a pre-binned histogram you need to do the following\n",
    "ax.hist(x = edges[:-1], bins = edges, weights=values,\n",
    "        label = 'Jet mass',\n",
    "        color='red',\n",
    "        histtype = 'stepfilled',\n",
    "        log = True,\n",
    "        edgecolor= 'black'\n",
    "        )\n",
    "ax.set_title(\"Jet Mass Distribution\")\n",
    "ax.set_xlabel(\"Jet Mass [GeV]\")\n",
    "ax.set_ylabel(\"Counts\")\n",
    "ax.legend()\n",
    "plt.show()"
   ]
  }
 ],
 "metadata": {
  "kernelspec": {
   "display_name": "Python 3 (ipykernel)",
   "language": "python",
   "name": "python3"
  },
  "language_info": {
   "codemirror_mode": {
    "name": "ipython",
    "version": 3
   },
   "file_extension": ".py",
   "mimetype": "text/x-python",
   "name": "python",
   "nbconvert_exporter": "python",
   "pygments_lexer": "ipython3",
   "version": "3.12.2"
  }
 },
 "nbformat": 4,
 "nbformat_minor": 5
}
