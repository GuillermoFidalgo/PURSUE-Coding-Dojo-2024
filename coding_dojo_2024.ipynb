{
 "cells": [
  {
   "cell_type": "markdown",
   "id": "bbb4258a",
   "metadata": {},
   "source": [
    "# Coding Dojo Working Notebook: Plotting Jet Kinematic Variables\n",
    "\n",
    "## Jet Basics\n",
    "<!-- Quick explanation of what jets are and any other relevant information about them -->"
   ]
  },
  {
   "cell_type": "markdown",
   "id": "57c99a3a",
   "metadata": {},
   "source": [
    "## Setup\n",
    "\n",
    "If you do not already have the data, go back to your terminal and do so. (Hint: Look up what `wget` does and how it works.)"
   ]
  },
  {
   "cell_type": "markdown",
   "id": "fdc2d53b",
   "metadata": {},
   "source": [
    "## Instructions\n",
    "For AK4 jets, plot histograms for each of the kinematic variables using the tools specified in the following table.\n",
    "\n",
    "<table>\n",
    "  <tr>\n",
    "    <th>AK4 Jet Kinematic Variable</th>\n",
    "    <th>Tools to Plot With</th>\n",
    "  </tr>\n",
    "  <tr>\n",
    "    <td>Jet eta</td>\n",
    "    <td>PyROOT</td>\n",
    "  </tr>\n",
    "  <tr>\n",
    "    <td>Jet phi</td>\n",
    "    <td>RDataFrame</td>\n",
    "  </tr>\n",
    "  <tr>\n",
    "    <td>Jet pt</td>\n",
    "    <td>Uproot, Hist</td>\n",
    "  </tr>\n",
    "  <tr>\n",
    "    <td>Jet mass</td>\n",
    "    <td>Matplotlib</td>\n",
    "  </tr>\n",
    "</table>\n",
    "\n",
    "If you finish before time is up, there is an extra exercise"
   ]
  },
  {
   "cell_type": "markdown",
   "id": "0011e267",
   "metadata": {},
   "source": [
    "## Hints:\n",
    "1. Check the content of data.root (e.g. What is the name of the TTree?)\n",
    "    - The file contains multipe TTrees\n",
    "    - Only the **first** one is relavent to this exercise\n",
    "2. Check the content of TTree (e.g. What branches does TTree have? What is the branch name of the quantity that we want to plot?)\n",
    "3. Fill a histogram using the branch and draw"
   ]
  },
  {
   "cell_type": "code",
   "execution_count": null,
   "id": "6f33ad9f",
   "metadata": {},
   "outputs": [],
   "source": [
    "# check the content of data.root\n",
    "!rootls data.root"
   ]
  },
  {
   "cell_type": "markdown",
   "id": "469f9fb1",
   "metadata": {},
   "source": [
    "## `PyROOT` for AK4 Jet $\\eta$\n",
    "\n",
    "**To-do**: Plot a histogram for jet  using PyROOT\n",
    "\n",
    "**Link to PyROOT tutorials**: https://github.com/Ari-mu-l/software-carpentry"
   ]
  },
  {
   "cell_type": "markdown",
   "id": "c20f7b42",
   "metadata": {},
   "source": [
    "Import relavent package(s)"
   ]
  },
  {
   "cell_type": "code",
   "execution_count": null,
   "id": "eb27a1fe",
   "metadata": {},
   "outputs": [],
   "source": [
    "import ROOT"
   ]
  },
  {
   "cell_type": "markdown",
   "id": "9c4d4275-6f11-4129-bd20-0e985e4171f6",
   "metadata": {},
   "source": [
    "Read the ROOT File"
   ]
  },
  {
   "cell_type": "code",
   "execution_count": null,
   "id": "eb15359a-1a83-4d89-9888-4b27194d4da9",
   "metadata": {},
   "outputs": [],
   "source": [
    "file = ROOT.TFile.Open(\"data.root\")"
   ]
  },
  {
   "cell_type": "markdown",
   "id": "4b7f374a-3905-4537-bccf-4a66ee1eb343",
   "metadata": {},
   "source": [
    "Load the Tree from the ROOT file (Use the name of the first TTree from the step \"check the content of data.root\")"
   ]
  },
  {
   "cell_type": "code",
   "execution_count": null,
   "id": "f8b4bc3b-2158-4f62-a456-cc32e0fb8b4e",
   "metadata": {},
   "outputs": [],
   "source": [
    "tree = file.Get(\"Events\")"
   ]
  },
  {
   "cell_type": "markdown",
   "id": "93d24791",
   "metadata": {},
   "source": [
    "Check the branch names of the ttree and select the desired branch (jet eta)\n",
    "\n",
    "- Hint1: Use the Print() function\n",
    "\n",
    "- Hint2: We often act on an object with the format of <object>.<some function> like hist.Draw()\n",
    "\n",
    "- Hint3: If you cannot figure it out, try to google for answers!"
   ]
  },
  {
   "cell_type": "code",
   "execution_count": null,
   "id": "7f25ef62",
   "metadata": {},
   "outputs": [],
   "source": [
    "tree.Print()"
   ]
  },
  {
   "cell_type": "markdown",
   "id": "5a3b6bff-ffb6-4a14-b92c-e0e9a5482085",
   "metadata": {},
   "source": [
    "Create a canvas to plot the histogram"
   ]
  },
  {
   "cell_type": "code",
   "execution_count": null,
   "id": "972983a0-05d7-479c-a06e-c6768d3bc603",
   "metadata": {},
   "outputs": [],
   "source": [
    "canvas = ROOT.TCanvas(\"canvas\", \"Jet_eta\", 800, 600)"
   ]
  },
  {
   "cell_type": "markdown",
   "id": "630e0dc8-3a2c-4523-9247-9207e085e328",
   "metadata": {},
   "source": [
    "Create an empty Histogram to plot the AK4 Jet $\\eta$ \n",
    "\n",
    "- Requirement: Range from -6 to 6. Split into 100 bins."
   ]
  },
  {
   "cell_type": "code",
   "execution_count": null,
   "id": "4733bb02-f195-4b62-af0f-10779cb4292b",
   "metadata": {},
   "outputs": [],
   "source": [
    "hist = ROOT.TH1F(\"Jet #eta\", \"Jet #eta\", 100, -6, 6)"
   ]
  },
  {
   "cell_type": "markdown",
   "id": "9642ab32",
   "metadata": {},
   "source": [
    "Fill the histogram with the branch in TTree\n",
    "\n",
    "- The code has been written for you.\n",
    "\n",
    "- Read the code and explain what each line is doing with the help of the documentation: https://root.cern.ch/doc/master/classTTree.html . If it doesn't contain everything you need, use google."
   ]
  },
  {
   "cell_type": "markdown",
   "id": "86a6f28a",
   "metadata": {},
   "source": [
    "Write it down in this cell (double click to edit) or leave comments in the code:"
   ]
  },
  {
   "cell_type": "code",
   "execution_count": null,
   "id": "91957496",
   "metadata": {},
   "outputs": [],
   "source": [
    "nEntries = tree.GetEntries()\n",
    "\n",
    "for i in range(nEntries):\n",
    "    if(tree.GetEntry(i)>0):\n",
    "        for j in range(len(tree.Jet_eta)): # Loop through all the jets in each event\n",
    "             hist.Fill(tree.Jet_eta[j])"
   ]
  },
  {
   "cell_type": "markdown",
   "id": "d8b21696-9a78-47ce-a1bd-1e018ed06a98",
   "metadata": {},
   "source": [
    "Draw the Histogram and the Canvas"
   ]
  },
  {
   "cell_type": "code",
   "execution_count": null,
   "id": "4213754d",
   "metadata": {},
   "outputs": [],
   "source": [
    "hist.Draw()\n",
    "canvas.Draw()"
   ]
  },
  {
   "cell_type": "markdown",
   "id": "19bfe439",
   "metadata": {},
   "source": [
    "You will find that looping through every event to fill the histogram is slow.\n",
    "\n",
    "Here is a cool shortcut that replaces everything above:"
   ]
  },
  {
   "cell_type": "code",
   "execution_count": null,
   "id": "622da844-73a8-4c02-819a-0ff568c87884",
   "metadata": {},
   "outputs": [],
   "source": [
    "tree.Draw(\"Jet_eta >> Jet #eta\")\n",
    "canvas.Draw()"
   ]
  },
  {
   "cell_type": "markdown",
   "id": "1f7bd48c",
   "metadata": {},
   "source": [
    "## `RDataFrame` for AK4 Jet $\\phi$\n",
    "\n",
    "**To-do**: Plot the distribution of jet $\\phi$\n",
    "\n",
    "**Requirement**: the histogram should range from -2 to 2 and have 10 bins\n",
    "\n",
    "**Documentation** of relavent functions: https://root.cern/doc/master/classROOT_1_1RDataFrame.html"
   ]
  },
  {
   "cell_type": "markdown",
   "id": "dc3af14a",
   "metadata": {},
   "source": [
    "Import relavent package (hint: ROOT)"
   ]
  },
  {
   "cell_type": "code",
   "execution_count": null,
   "id": "688db16f",
   "metadata": {},
   "outputs": [],
   "source": [
    "import ROOT"
   ]
  },
  {
   "cell_type": "markdown",
   "id": "1df3199c",
   "metadata": {},
   "source": [
    "Load TTree into a RDataFrame (aka create a RDataFrame with the content in TTree)"
   ]
  },
  {
   "cell_type": "code",
   "execution_count": null,
   "id": "b8970a62",
   "metadata": {},
   "outputs": [],
   "source": [
    "df = ROOT.RDataFrame(\"Events\",\"data.root\")"
   ]
  },
  {
   "cell_type": "markdown",
   "id": "d33c9d48",
   "metadata": {},
   "source": [
    "Check the column names"
   ]
  },
  {
   "cell_type": "code",
   "execution_count": null,
   "id": "b6387126",
   "metadata": {},
   "outputs": [],
   "source": [
    "print(df.GetColumnNames())"
   ]
  },
  {
   "cell_type": "markdown",
   "id": "b1b3e8d8",
   "metadata": {},
   "source": [
    "Fill a histogram with the desired branch\n",
    "Requirement: the histogram should range from -2 to 2 and have 10 bins"
   ]
  },
  {
   "cell_type": "code",
   "execution_count": null,
   "id": "f4114cb7",
   "metadata": {},
   "outputs": [],
   "source": [
    "h_phi = df.Histo1D((\"Jet #phi\", \"Jet #phi\", 10, -2, 2), \"Jet_phi\")"
   ]
  },
  {
   "cell_type": "markdown",
   "id": "d956bf64",
   "metadata": {},
   "source": [
    "Plot histogram"
   ]
  },
  {
   "cell_type": "code",
   "execution_count": null,
   "id": "41165a3a",
   "metadata": {},
   "outputs": [],
   "source": [
    "c = ROOT.TCanvas()\n",
    "h_phi.Draw()\n",
    "c.Draw()"
   ]
  },
  {
   "cell_type": "markdown",
   "id": "bf05c27c",
   "metadata": {},
   "source": [
    "## `Hist` for Jet $p_T$"
   ]
  },
  {
   "cell_type": "code",
   "execution_count": null,
   "execution_count": 13,
   "execution_count": 4,
   "id": "3c027273",
   "metadata": {},
   "outputs": [],
   "source": [
    "import uproot, hist\n",
    "import awkward as ak"
   ]
  },
  {
   "cell_type": "markdown",
   "id": "296a76f1",
   "metadata": {},
   "source": [
    "Load the data.root file with uproot"
   ]
  },
  {
   "cell_type": "code",
   "execution_count": 5,
   "id": "0f854eec",
   "metadata": {},
   "outputs": [],
   "source": [
    "data = uproot.open(\"data.root\")"
   ]
  },
  {
   "cell_type": "markdown",
   "id": "bc8a9547",
   "metadata": {},
   "source": [
    "Find Jet_pt info in \"Events\" TTree. Save them in an array with ak library"
   ]
  },
  {
   "cell_type": "code",
   "execution_count": 16,
   "id": "afa69488",
   "metadata": {},
   "outputs": [],
   "source": [
    "jet_pt = data['Events']['Jet_pt'].array(library=\"ak\")"
   ]
  },
  {
   "cell_type": "markdown",
   "id": "a3fec7ba",
   "metadata": {},
   "source": [
    "Flatten the array"
   ]
  },
  {
   "cell_type": "code",
   "execution_count": 17,
   "id": "2bb2c9b7",
   "metadata": {},
   "outputs": [],
   "source": [
    "flat_jet_pt = ak.flatten(jet_pt)"
   ]
  },
  {
   "cell_type": "markdown",
   "id": "04353ac8",
   "metadata": {},
   "source": [
    "Import Hist. Define a histogram, fiil it and plot it"
   ]
  },
  {
   "cell_type": "code",
   "execution_count": 27,
   "id": "d2f1f010",
   "metadata": {},
   "outputs": [
    {
     "data": {
      "text/plain": [
       "[StairsArtists(stairs=<matplotlib.patches.StepPatch object at 0x7ff860ec27f0>, errorbar=<ErrorbarContainer object of 3 artists>, legend_artist=<ErrorbarContainer object of 3 artists>)]"
      ]
     },
     "execution_count": 27,
     "metadata": {},
     "output_type": "execute_result"
    },
    {
     "data": {
      "image/png": "[encoded data removed]",
      "text/plain": [
       "<Figure size 640x480 with 1 Axes>"
      ]
     },
     "metadata": {},
     "output_type": "display_data"
    }
   ],
   "source": [
    "from hist import Hist\n",
    "\n",
    "hist = Hist.new.Reg(1000, 0, 500, name=\"Jet_pt\", label=\"Jet $p_T$ (GeV)\").Double()\n",
    "hist.fill(flat_jet_pt)\n",
    "hist.plot()"
   ]
  },
  {
   "cell_type": "markdown",
   "id": "ff42daa5",
   "metadata": {},
   "source": [
    "## `Matplotlib` for AK4 Jet mass"
   ]
  },
  {
   "cell_type": "code",
   "execution_count": null,
   "id": "1aae3f61",
   "metadata": {},
   "outputs": [],
   "source": [
    "import matplotlib.pyplot as plt\n",
    "import numpy as np"
   ]
  }
 ],
 "metadata": {
  "kernelspec": {
   "display_name": "Python 3 (ipykernel)",
   "language": "python",
   "name": "python3"
  },
  "language_info": {
   "codemirror_mode": {
    "name": "ipython",
    "version": 3
   },
   "file_extension": ".py",
   "mimetype": "text/x-python",
   "name": "python",
   "nbconvert_exporter": "python",
   "pygments_lexer": "ipython3",
   "version": "3.9.14"
  }
 },
 "nbformat": 4,
 "nbformat_minor": 5
}
